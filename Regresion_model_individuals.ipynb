{
 "cells": [
  {
   "cell_type": "code",
   "execution_count": 639,
   "metadata": {},
   "outputs": [],
   "source": [
    "import pandas as pd\n",
    "import numpy as np\n",
    "\n",
    "from sklearn.model_selection import train_test_split\n",
    "from sklearn.metrics import mean_squared_error, r2_score\n",
    "\n",
    "from sklearn.ensemble import ExtraTreesRegressor, RandomForestRegressor"
   ]
  },
  {
   "cell_type": "code",
   "execution_count": 640,
   "metadata": {},
   "outputs": [],
   "source": [
    "df = pd.read_csv(\"./data/datos_donantes.csv\")"
   ]
  },
  {
   "cell_type": "code",
   "execution_count": 641,
   "metadata": {},
   "outputs": [],
   "source": [
    "def modificar_method_pay(row):\n",
    "    if row['donation_type'] in [2, 3, 4]:\n",
    "        return 0\n",
    "    else:\n",
    "        return row['method_pay']\n",
    "\n",
    "# Aplicar la función a la columna 'method_pay'\n",
    "df['method_pay'] = df.apply(modificar_method_pay, axis=1)"
   ]
  },
  {
   "cell_type": "code",
   "execution_count": 642,
   "metadata": {},
   "outputs": [],
   "source": [
    "df = df[df['donation_date'] < '2024-04-10']"
   ]
  },
  {
   "cell_type": "code",
   "execution_count": 643,
   "metadata": {},
   "outputs": [
    {
     "data": {
      "text/plain": [
       "Index(['name', 'email', 'date', 'is_partner', 'company', 'role_company',\n",
       "       'donation_frecuency', 'suscription_status', 'donation_type', 'amount',\n",
       "       'method_pay', 'donation_date'],\n",
       "      dtype='object')"
      ]
     },
     "execution_count": 643,
     "metadata": {},
     "output_type": "execute_result"
    }
   ],
   "source": [
    "df.columns"
   ]
  },
  {
   "cell_type": "code",
   "execution_count": 644,
   "metadata": {},
   "outputs": [
    {
     "data": {
      "text/html": [
       "<div>\n",
       "<style scoped>\n",
       "    .dataframe tbody tr th:only-of-type {\n",
       "        vertical-align: middle;\n",
       "    }\n",
       "\n",
       "    .dataframe tbody tr th {\n",
       "        vertical-align: top;\n",
       "    }\n",
       "\n",
       "    .dataframe thead th {\n",
       "        text-align: right;\n",
       "    }\n",
       "</style>\n",
       "<table border=\"1\" class=\"dataframe\">\n",
       "  <thead>\n",
       "    <tr style=\"text-align: right;\">\n",
       "      <th></th>\n",
       "      <th>name</th>\n",
       "      <th>email</th>\n",
       "      <th>date</th>\n",
       "      <th>is_partner</th>\n",
       "      <th>company</th>\n",
       "      <th>role_company</th>\n",
       "      <th>donation_frecuency</th>\n",
       "      <th>suscription_status</th>\n",
       "      <th>donation_type</th>\n",
       "      <th>amount</th>\n",
       "      <th>method_pay</th>\n",
       "      <th>donation_date</th>\n",
       "    </tr>\n",
       "  </thead>\n",
       "  <tbody>\n",
       "    <tr>\n",
       "      <th>0</th>\n",
       "      <td>Tara Young</td>\n",
       "      <td>tara.young@gmail.com</td>\n",
       "      <td>2017-10-22</td>\n",
       "      <td>1</td>\n",
       "      <td>Nike</td>\n",
       "      <td>CTO</td>\n",
       "      <td>1</td>\n",
       "      <td>1</td>\n",
       "      <td>4</td>\n",
       "      <td>0.00</td>\n",
       "      <td>0</td>\n",
       "      <td>2021-11-14</td>\n",
       "    </tr>\n",
       "    <tr>\n",
       "      <th>1</th>\n",
       "      <td>Bobby Acevedo</td>\n",
       "      <td>bobby.acevedo@gmail.com</td>\n",
       "      <td>2019-02-18</td>\n",
       "      <td>0</td>\n",
       "      <td>NaN</td>\n",
       "      <td>NaN</td>\n",
       "      <td>0</td>\n",
       "      <td>0</td>\n",
       "      <td>1</td>\n",
       "      <td>1355.38</td>\n",
       "      <td>3</td>\n",
       "      <td>2022-05-01</td>\n",
       "    </tr>\n",
       "    <tr>\n",
       "      <th>2</th>\n",
       "      <td>James Payne</td>\n",
       "      <td>james.payne@gmail.com</td>\n",
       "      <td>2013-03-06</td>\n",
       "      <td>0</td>\n",
       "      <td>NaN</td>\n",
       "      <td>NaN</td>\n",
       "      <td>0</td>\n",
       "      <td>0</td>\n",
       "      <td>1</td>\n",
       "      <td>8132.27</td>\n",
       "      <td>3</td>\n",
       "      <td>2014-10-18</td>\n",
       "    </tr>\n",
       "    <tr>\n",
       "      <th>3</th>\n",
       "      <td>Heather Mooney</td>\n",
       "      <td>heather.mooney@gmail.com</td>\n",
       "      <td>2013-06-02</td>\n",
       "      <td>1</td>\n",
       "      <td>Jonhsons</td>\n",
       "      <td>Employee</td>\n",
       "      <td>0</td>\n",
       "      <td>1</td>\n",
       "      <td>2</td>\n",
       "      <td>0.00</td>\n",
       "      <td>0</td>\n",
       "      <td>2018-06-11</td>\n",
       "    </tr>\n",
       "    <tr>\n",
       "      <th>4</th>\n",
       "      <td>Joseph Anderson</td>\n",
       "      <td>joseph.anderson@gmail.com</td>\n",
       "      <td>2024-01-21</td>\n",
       "      <td>1</td>\n",
       "      <td>The Oberoi</td>\n",
       "      <td>Employee</td>\n",
       "      <td>1</td>\n",
       "      <td>1</td>\n",
       "      <td>2</td>\n",
       "      <td>0.00</td>\n",
       "      <td>0</td>\n",
       "      <td>2024-01-30</td>\n",
       "    </tr>\n",
       "  </tbody>\n",
       "</table>\n",
       "</div>"
      ],
      "text/plain": [
       "              name                      email        date  is_partner  \\\n",
       "0       Tara Young       tara.young@gmail.com  2017-10-22           1   \n",
       "1    Bobby Acevedo    bobby.acevedo@gmail.com  2019-02-18           0   \n",
       "2      James Payne      james.payne@gmail.com  2013-03-06           0   \n",
       "3   Heather Mooney   heather.mooney@gmail.com  2013-06-02           1   \n",
       "4  Joseph Anderson  joseph.anderson@gmail.com  2024-01-21           1   \n",
       "\n",
       "      company role_company  donation_frecuency  suscription_status  \\\n",
       "0        Nike          CTO                   1                   1   \n",
       "1         NaN          NaN                   0                   0   \n",
       "2         NaN          NaN                   0                   0   \n",
       "3    Jonhsons     Employee                   0                   1   \n",
       "4  The Oberoi     Employee                   1                   1   \n",
       "\n",
       "   donation_type   amount  method_pay donation_date  \n",
       "0              4     0.00           0    2021-11-14  \n",
       "1              1  1355.38           3    2022-05-01  \n",
       "2              1  8132.27           3    2014-10-18  \n",
       "3              2     0.00           0    2018-06-11  \n",
       "4              2     0.00           0    2024-01-30  "
      ]
     },
     "execution_count": 644,
     "metadata": {},
     "output_type": "execute_result"
    }
   ],
   "source": [
    "df.head()"
   ]
  },
  {
   "cell_type": "code",
   "execution_count": 645,
   "metadata": {},
   "outputs": [
    {
     "data": {
      "text/plain": [
       "(3860, 12)"
      ]
     },
     "execution_count": 645,
     "metadata": {},
     "output_type": "execute_result"
    }
   ],
   "source": [
    "df.shape"
   ]
  },
  {
   "cell_type": "code",
   "execution_count": 646,
   "metadata": {},
   "outputs": [],
   "source": [
    "df = df.groupby('donation_date').agg({'amount': 'sum', 'is_partner': 'first', 'company': 'first', 'donation_frecuency': 'first','method_pay': 'first'})"
   ]
  },
  {
   "cell_type": "code",
   "execution_count": 647,
   "metadata": {},
   "outputs": [],
   "source": [
    "df['fecha'] = pd.to_datetime(df.index)"
   ]
  },
  {
   "cell_type": "code",
   "execution_count": 648,
   "metadata": {},
   "outputs": [],
   "source": [
    "fecha_inicio = df.index.min()\n",
    "fecha_fin = df.index.max()\n",
    "rango_fechas = pd.date_range(start=fecha_inicio, end=fecha_fin, freq='D')"
   ]
  },
  {
   "cell_type": "code",
   "execution_count": 649,
   "metadata": {},
   "outputs": [
    {
     "data": {
      "text/plain": [
       "(6339, 36)"
      ]
     },
     "execution_count": 649,
     "metadata": {},
     "output_type": "execute_result"
    }
   ],
   "source": [
    "serie_temporal.shape"
   ]
  },
  {
   "cell_type": "code",
   "execution_count": 650,
   "metadata": {},
   "outputs": [],
   "source": [
    "# Crear un DataFrame con todas las fechas posibles\n",
    "serie_temporal = pd.DataFrame()\n",
    "serie_temporal['fecha'] = rango_fechas"
   ]
  },
  {
   "cell_type": "code",
   "execution_count": 651,
   "metadata": {},
   "outputs": [],
   "source": [
    "# Unir los datos de donaciones al DataFrame de fechas\n",
    "serie_temporal = pd.merge(serie_temporal, df, on='fecha', how='left')"
   ]
  },
  {
   "cell_type": "code",
   "execution_count": 652,
   "metadata": {},
   "outputs": [
    {
     "data": {
      "text/plain": [
       "(6339, 6)"
      ]
     },
     "execution_count": 652,
     "metadata": {},
     "output_type": "execute_result"
    }
   ],
   "source": [
    "serie_temporal.shape"
   ]
  },
  {
   "cell_type": "code",
   "execution_count": 653,
   "metadata": {},
   "outputs": [],
   "source": [
    "# Rellenar los valores faltantes con 0\n",
    "serie_temporal['amount'].fillna(0, inplace=True)"
   ]
  },
  {
   "cell_type": "code",
   "execution_count": 654,
   "metadata": {},
   "outputs": [],
   "source": [
    "serie_temporal['fecha'] = pd.to_datetime(serie_temporal['fecha'])\n",
    "serie_temporal['año'] = serie_temporal['fecha'].dt.year\n",
    "serie_temporal['mes'] = serie_temporal['fecha'].dt.month\n",
    "serie_temporal['dia'] = serie_temporal['fecha'].dt.day"
   ]
  },
  {
   "cell_type": "code",
   "execution_count": 655,
   "metadata": {},
   "outputs": [
    {
     "name": "stdout",
     "output_type": "stream",
     "text": [
      "<class 'pandas.core.frame.DataFrame'>\n",
      "RangeIndex: 6339 entries, 0 to 6338\n",
      "Data columns (total 9 columns):\n",
      " #   Column              Non-Null Count  Dtype         \n",
      "---  ------              --------------  -----         \n",
      " 0   fecha               6339 non-null   datetime64[ns]\n",
      " 1   amount              6339 non-null   float64       \n",
      " 2   is_partner          2921 non-null   float64       \n",
      " 3   company             446 non-null    object        \n",
      " 4   donation_frecuency  2921 non-null   float64       \n",
      " 5   method_pay          2921 non-null   float64       \n",
      " 6   año                 6339 non-null   int32         \n",
      " 7   mes                 6339 non-null   int32         \n",
      " 8   dia                 6339 non-null   int32         \n",
      "dtypes: datetime64[ns](1), float64(4), int32(3), object(1)\n",
      "memory usage: 371.6+ KB\n"
     ]
    }
   ],
   "source": [
    "serie_temporal.info()"
   ]
  },
  {
   "cell_type": "markdown",
   "metadata": {},
   "source": [
    "- Tendencia mensual: Puedes crear una característica para cada mes del año, donde cada característica indicaría si la observación ocurrió en ese mes o no. Por ejemplo, para el mes de enero, tendrías una columna que es 1 si la observación ocurrió en enero y 0 en caso contrario."
   ]
  },
  {
   "cell_type": "code",
   "execution_count": 656,
   "metadata": {},
   "outputs": [],
   "source": [
    "# for i in range(1, 13):\n",
    "#     serie_temporal[f'mes_{i}'] = (serie_temporal['mes'] == i).astype(int)\n",
    "    \n",
    "for i in range(1, 32):\n",
    "    serie_temporal[f'dia_{i}'] = (serie_temporal['dia'] == i).astype(int)\n",
    "\n",
    "serie_temporal['años_transcurridos'] = serie_temporal['año'] - serie_temporal['año'].min()"
   ]
  },
  {
   "cell_type": "code",
   "execution_count": 657,
   "metadata": {},
   "outputs": [
    {
     "data": {
      "text/html": [
       "<div>\n",
       "<style scoped>\n",
       "    .dataframe tbody tr th:only-of-type {\n",
       "        vertical-align: middle;\n",
       "    }\n",
       "\n",
       "    .dataframe tbody tr th {\n",
       "        vertical-align: top;\n",
       "    }\n",
       "\n",
       "    .dataframe thead th {\n",
       "        text-align: right;\n",
       "    }\n",
       "</style>\n",
       "<table border=\"1\" class=\"dataframe\">\n",
       "  <thead>\n",
       "    <tr style=\"text-align: right;\">\n",
       "      <th></th>\n",
       "      <th>fecha</th>\n",
       "      <th>amount</th>\n",
       "      <th>is_partner</th>\n",
       "      <th>company</th>\n",
       "      <th>donation_frecuency</th>\n",
       "      <th>method_pay</th>\n",
       "      <th>año</th>\n",
       "      <th>mes</th>\n",
       "      <th>dia</th>\n",
       "      <th>dia_1</th>\n",
       "      <th>...</th>\n",
       "      <th>dia_23</th>\n",
       "      <th>dia_24</th>\n",
       "      <th>dia_25</th>\n",
       "      <th>dia_26</th>\n",
       "      <th>dia_27</th>\n",
       "      <th>dia_28</th>\n",
       "      <th>dia_29</th>\n",
       "      <th>dia_30</th>\n",
       "      <th>dia_31</th>\n",
       "      <th>años_transcurridos</th>\n",
       "    </tr>\n",
       "  </thead>\n",
       "  <tbody>\n",
       "    <tr>\n",
       "      <th>0</th>\n",
       "      <td>2006-11-29</td>\n",
       "      <td>9035.86</td>\n",
       "      <td>0.0</td>\n",
       "      <td>None</td>\n",
       "      <td>1.0</td>\n",
       "      <td>3.0</td>\n",
       "      <td>2006</td>\n",
       "      <td>11</td>\n",
       "      <td>29</td>\n",
       "      <td>0</td>\n",
       "      <td>...</td>\n",
       "      <td>0</td>\n",
       "      <td>0</td>\n",
       "      <td>0</td>\n",
       "      <td>0</td>\n",
       "      <td>0</td>\n",
       "      <td>0</td>\n",
       "      <td>1</td>\n",
       "      <td>0</td>\n",
       "      <td>0</td>\n",
       "      <td>0</td>\n",
       "    </tr>\n",
       "    <tr>\n",
       "      <th>1</th>\n",
       "      <td>2006-11-30</td>\n",
       "      <td>0.00</td>\n",
       "      <td>NaN</td>\n",
       "      <td>NaN</td>\n",
       "      <td>NaN</td>\n",
       "      <td>NaN</td>\n",
       "      <td>2006</td>\n",
       "      <td>11</td>\n",
       "      <td>30</td>\n",
       "      <td>0</td>\n",
       "      <td>...</td>\n",
       "      <td>0</td>\n",
       "      <td>0</td>\n",
       "      <td>0</td>\n",
       "      <td>0</td>\n",
       "      <td>0</td>\n",
       "      <td>0</td>\n",
       "      <td>0</td>\n",
       "      <td>1</td>\n",
       "      <td>0</td>\n",
       "      <td>0</td>\n",
       "    </tr>\n",
       "    <tr>\n",
       "      <th>2</th>\n",
       "      <td>2006-12-01</td>\n",
       "      <td>0.00</td>\n",
       "      <td>NaN</td>\n",
       "      <td>NaN</td>\n",
       "      <td>NaN</td>\n",
       "      <td>NaN</td>\n",
       "      <td>2006</td>\n",
       "      <td>12</td>\n",
       "      <td>1</td>\n",
       "      <td>1</td>\n",
       "      <td>...</td>\n",
       "      <td>0</td>\n",
       "      <td>0</td>\n",
       "      <td>0</td>\n",
       "      <td>0</td>\n",
       "      <td>0</td>\n",
       "      <td>0</td>\n",
       "      <td>0</td>\n",
       "      <td>0</td>\n",
       "      <td>0</td>\n",
       "      <td>0</td>\n",
       "    </tr>\n",
       "    <tr>\n",
       "      <th>3</th>\n",
       "      <td>2006-12-02</td>\n",
       "      <td>4517.93</td>\n",
       "      <td>0.0</td>\n",
       "      <td>None</td>\n",
       "      <td>0.0</td>\n",
       "      <td>3.0</td>\n",
       "      <td>2006</td>\n",
       "      <td>12</td>\n",
       "      <td>2</td>\n",
       "      <td>0</td>\n",
       "      <td>...</td>\n",
       "      <td>0</td>\n",
       "      <td>0</td>\n",
       "      <td>0</td>\n",
       "      <td>0</td>\n",
       "      <td>0</td>\n",
       "      <td>0</td>\n",
       "      <td>0</td>\n",
       "      <td>0</td>\n",
       "      <td>0</td>\n",
       "      <td>0</td>\n",
       "    </tr>\n",
       "    <tr>\n",
       "      <th>4</th>\n",
       "      <td>2006-12-03</td>\n",
       "      <td>0.00</td>\n",
       "      <td>NaN</td>\n",
       "      <td>NaN</td>\n",
       "      <td>NaN</td>\n",
       "      <td>NaN</td>\n",
       "      <td>2006</td>\n",
       "      <td>12</td>\n",
       "      <td>3</td>\n",
       "      <td>0</td>\n",
       "      <td>...</td>\n",
       "      <td>0</td>\n",
       "      <td>0</td>\n",
       "      <td>0</td>\n",
       "      <td>0</td>\n",
       "      <td>0</td>\n",
       "      <td>0</td>\n",
       "      <td>0</td>\n",
       "      <td>0</td>\n",
       "      <td>0</td>\n",
       "      <td>0</td>\n",
       "    </tr>\n",
       "    <tr>\n",
       "      <th>5</th>\n",
       "      <td>2006-12-04</td>\n",
       "      <td>0.00</td>\n",
       "      <td>NaN</td>\n",
       "      <td>NaN</td>\n",
       "      <td>NaN</td>\n",
       "      <td>NaN</td>\n",
       "      <td>2006</td>\n",
       "      <td>12</td>\n",
       "      <td>4</td>\n",
       "      <td>0</td>\n",
       "      <td>...</td>\n",
       "      <td>0</td>\n",
       "      <td>0</td>\n",
       "      <td>0</td>\n",
       "      <td>0</td>\n",
       "      <td>0</td>\n",
       "      <td>0</td>\n",
       "      <td>0</td>\n",
       "      <td>0</td>\n",
       "      <td>0</td>\n",
       "      <td>0</td>\n",
       "    </tr>\n",
       "    <tr>\n",
       "      <th>6</th>\n",
       "      <td>2006-12-05</td>\n",
       "      <td>0.00</td>\n",
       "      <td>NaN</td>\n",
       "      <td>NaN</td>\n",
       "      <td>NaN</td>\n",
       "      <td>NaN</td>\n",
       "      <td>2006</td>\n",
       "      <td>12</td>\n",
       "      <td>5</td>\n",
       "      <td>0</td>\n",
       "      <td>...</td>\n",
       "      <td>0</td>\n",
       "      <td>0</td>\n",
       "      <td>0</td>\n",
       "      <td>0</td>\n",
       "      <td>0</td>\n",
       "      <td>0</td>\n",
       "      <td>0</td>\n",
       "      <td>0</td>\n",
       "      <td>0</td>\n",
       "      <td>0</td>\n",
       "    </tr>\n",
       "    <tr>\n",
       "      <th>7</th>\n",
       "      <td>2006-12-06</td>\n",
       "      <td>0.00</td>\n",
       "      <td>NaN</td>\n",
       "      <td>NaN</td>\n",
       "      <td>NaN</td>\n",
       "      <td>NaN</td>\n",
       "      <td>2006</td>\n",
       "      <td>12</td>\n",
       "      <td>6</td>\n",
       "      <td>0</td>\n",
       "      <td>...</td>\n",
       "      <td>0</td>\n",
       "      <td>0</td>\n",
       "      <td>0</td>\n",
       "      <td>0</td>\n",
       "      <td>0</td>\n",
       "      <td>0</td>\n",
       "      <td>0</td>\n",
       "      <td>0</td>\n",
       "      <td>0</td>\n",
       "      <td>0</td>\n",
       "    </tr>\n",
       "    <tr>\n",
       "      <th>8</th>\n",
       "      <td>2006-12-07</td>\n",
       "      <td>0.00</td>\n",
       "      <td>NaN</td>\n",
       "      <td>NaN</td>\n",
       "      <td>NaN</td>\n",
       "      <td>NaN</td>\n",
       "      <td>2006</td>\n",
       "      <td>12</td>\n",
       "      <td>7</td>\n",
       "      <td>0</td>\n",
       "      <td>...</td>\n",
       "      <td>0</td>\n",
       "      <td>0</td>\n",
       "      <td>0</td>\n",
       "      <td>0</td>\n",
       "      <td>0</td>\n",
       "      <td>0</td>\n",
       "      <td>0</td>\n",
       "      <td>0</td>\n",
       "      <td>0</td>\n",
       "      <td>0</td>\n",
       "    </tr>\n",
       "    <tr>\n",
       "      <th>9</th>\n",
       "      <td>2006-12-08</td>\n",
       "      <td>0.00</td>\n",
       "      <td>NaN</td>\n",
       "      <td>NaN</td>\n",
       "      <td>NaN</td>\n",
       "      <td>NaN</td>\n",
       "      <td>2006</td>\n",
       "      <td>12</td>\n",
       "      <td>8</td>\n",
       "      <td>0</td>\n",
       "      <td>...</td>\n",
       "      <td>0</td>\n",
       "      <td>0</td>\n",
       "      <td>0</td>\n",
       "      <td>0</td>\n",
       "      <td>0</td>\n",
       "      <td>0</td>\n",
       "      <td>0</td>\n",
       "      <td>0</td>\n",
       "      <td>0</td>\n",
       "      <td>0</td>\n",
       "    </tr>\n",
       "  </tbody>\n",
       "</table>\n",
       "<p>10 rows × 41 columns</p>\n",
       "</div>"
      ],
      "text/plain": [
       "       fecha   amount  is_partner company  donation_frecuency  method_pay  \\\n",
       "0 2006-11-29  9035.86         0.0    None                 1.0         3.0   \n",
       "1 2006-11-30     0.00         NaN     NaN                 NaN         NaN   \n",
       "2 2006-12-01     0.00         NaN     NaN                 NaN         NaN   \n",
       "3 2006-12-02  4517.93         0.0    None                 0.0         3.0   \n",
       "4 2006-12-03     0.00         NaN     NaN                 NaN         NaN   \n",
       "5 2006-12-04     0.00         NaN     NaN                 NaN         NaN   \n",
       "6 2006-12-05     0.00         NaN     NaN                 NaN         NaN   \n",
       "7 2006-12-06     0.00         NaN     NaN                 NaN         NaN   \n",
       "8 2006-12-07     0.00         NaN     NaN                 NaN         NaN   \n",
       "9 2006-12-08     0.00         NaN     NaN                 NaN         NaN   \n",
       "\n",
       "    año  mes  dia  dia_1  ...  dia_23  dia_24  dia_25  dia_26  dia_27  dia_28  \\\n",
       "0  2006   11   29      0  ...       0       0       0       0       0       0   \n",
       "1  2006   11   30      0  ...       0       0       0       0       0       0   \n",
       "2  2006   12    1      1  ...       0       0       0       0       0       0   \n",
       "3  2006   12    2      0  ...       0       0       0       0       0       0   \n",
       "4  2006   12    3      0  ...       0       0       0       0       0       0   \n",
       "5  2006   12    4      0  ...       0       0       0       0       0       0   \n",
       "6  2006   12    5      0  ...       0       0       0       0       0       0   \n",
       "7  2006   12    6      0  ...       0       0       0       0       0       0   \n",
       "8  2006   12    7      0  ...       0       0       0       0       0       0   \n",
       "9  2006   12    8      0  ...       0       0       0       0       0       0   \n",
       "\n",
       "   dia_29  dia_30  dia_31  años_transcurridos  \n",
       "0       1       0       0                   0  \n",
       "1       0       1       0                   0  \n",
       "2       0       0       0                   0  \n",
       "3       0       0       0                   0  \n",
       "4       0       0       0                   0  \n",
       "5       0       0       0                   0  \n",
       "6       0       0       0                   0  \n",
       "7       0       0       0                   0  \n",
       "8       0       0       0                   0  \n",
       "9       0       0       0                   0  \n",
       "\n",
       "[10 rows x 41 columns]"
      ]
     },
     "execution_count": 657,
     "metadata": {},
     "output_type": "execute_result"
    }
   ],
   "source": [
    "serie_temporal.head(10)"
   ]
  },
  {
   "cell_type": "code",
   "execution_count": 658,
   "metadata": {},
   "outputs": [],
   "source": [
    "serie_temporal = serie_temporal.drop(['fecha', 'company', 'method_pay', 'donation_frecuency', 'is_partner'], axis=1)"
   ]
  },
  {
   "cell_type": "code",
   "execution_count": 659,
   "metadata": {},
   "outputs": [
    {
     "data": {
      "text/plain": [
       "Index(['amount', 'año', 'mes', 'dia', 'dia_1', 'dia_2', 'dia_3', 'dia_4',\n",
       "       'dia_5', 'dia_6', 'dia_7', 'dia_8', 'dia_9', 'dia_10', 'dia_11',\n",
       "       'dia_12', 'dia_13', 'dia_14', 'dia_15', 'dia_16', 'dia_17', 'dia_18',\n",
       "       'dia_19', 'dia_20', 'dia_21', 'dia_22', 'dia_23', 'dia_24', 'dia_25',\n",
       "       'dia_26', 'dia_27', 'dia_28', 'dia_29', 'dia_30', 'dia_31',\n",
       "       'años_transcurridos'],\n",
       "      dtype='object')"
      ]
     },
     "execution_count": 659,
     "metadata": {},
     "output_type": "execute_result"
    }
   ],
   "source": [
    "serie_temporal.columns"
   ]
  },
  {
   "cell_type": "code",
   "execution_count": 660,
   "metadata": {},
   "outputs": [],
   "source": [
    "# Dividir los datos en características (X) y la variable objetivo (y)\n",
    "X = serie_temporal.drop(columns='amount')\n",
    "y = serie_temporal['amount']"
   ]
  },
  {
   "cell_type": "code",
   "execution_count": 661,
   "metadata": {},
   "outputs": [],
   "source": [
    "# Dividir los datos en conjuntos de entrenamiento y prueba\n",
    "X_train, X_test, y_train, y_test = train_test_split(X, y, test_size=0.2, random_state=42)"
   ]
  },
  {
   "cell_type": "markdown",
   "metadata": {},
   "source": [
    " random_search_etr.best_params_ : {'n_estimators': 100, 'min_samples_split': 5, 'min_samples_leaf': 1, 'max_features': 'sqrt', 'max_depth': None, 'bootstrap': False}"
   ]
  },
  {
   "cell_type": "code",
   "execution_count": 662,
   "metadata": {},
   "outputs": [
    {
     "data": {
      "text/html": [
       "<style>#sk-container-id-21 {color: black;}#sk-container-id-21 pre{padding: 0;}#sk-container-id-21 div.sk-toggleable {background-color: white;}#sk-container-id-21 label.sk-toggleable__label {cursor: pointer;display: block;width: 100%;margin-bottom: 0;padding: 0.3em;box-sizing: border-box;text-align: center;}#sk-container-id-21 label.sk-toggleable__label-arrow:before {content: \"▸\";float: left;margin-right: 0.25em;color: #696969;}#sk-container-id-21 label.sk-toggleable__label-arrow:hover:before {color: black;}#sk-container-id-21 div.sk-estimator:hover label.sk-toggleable__label-arrow:before {color: black;}#sk-container-id-21 div.sk-toggleable__content {max-height: 0;max-width: 0;overflow: hidden;text-align: left;background-color: #f0f8ff;}#sk-container-id-21 div.sk-toggleable__content pre {margin: 0.2em;color: black;border-radius: 0.25em;background-color: #f0f8ff;}#sk-container-id-21 input.sk-toggleable__control:checked~div.sk-toggleable__content {max-height: 200px;max-width: 100%;overflow: auto;}#sk-container-id-21 input.sk-toggleable__control:checked~label.sk-toggleable__label-arrow:before {content: \"▾\";}#sk-container-id-21 div.sk-estimator input.sk-toggleable__control:checked~label.sk-toggleable__label {background-color: #d4ebff;}#sk-container-id-21 div.sk-label input.sk-toggleable__control:checked~label.sk-toggleable__label {background-color: #d4ebff;}#sk-container-id-21 input.sk-hidden--visually {border: 0;clip: rect(1px 1px 1px 1px);clip: rect(1px, 1px, 1px, 1px);height: 1px;margin: -1px;overflow: hidden;padding: 0;position: absolute;width: 1px;}#sk-container-id-21 div.sk-estimator {font-family: monospace;background-color: #f0f8ff;border: 1px dotted black;border-radius: 0.25em;box-sizing: border-box;margin-bottom: 0.5em;}#sk-container-id-21 div.sk-estimator:hover {background-color: #d4ebff;}#sk-container-id-21 div.sk-parallel-item::after {content: \"\";width: 100%;border-bottom: 1px solid gray;flex-grow: 1;}#sk-container-id-21 div.sk-label:hover label.sk-toggleable__label {background-color: #d4ebff;}#sk-container-id-21 div.sk-serial::before {content: \"\";position: absolute;border-left: 1px solid gray;box-sizing: border-box;top: 0;bottom: 0;left: 50%;z-index: 0;}#sk-container-id-21 div.sk-serial {display: flex;flex-direction: column;align-items: center;background-color: white;padding-right: 0.2em;padding-left: 0.2em;position: relative;}#sk-container-id-21 div.sk-item {position: relative;z-index: 1;}#sk-container-id-21 div.sk-parallel {display: flex;align-items: stretch;justify-content: center;background-color: white;position: relative;}#sk-container-id-21 div.sk-item::before, #sk-container-id-21 div.sk-parallel-item::before {content: \"\";position: absolute;border-left: 1px solid gray;box-sizing: border-box;top: 0;bottom: 0;left: 50%;z-index: -1;}#sk-container-id-21 div.sk-parallel-item {display: flex;flex-direction: column;z-index: 1;position: relative;background-color: white;}#sk-container-id-21 div.sk-parallel-item:first-child::after {align-self: flex-end;width: 50%;}#sk-container-id-21 div.sk-parallel-item:last-child::after {align-self: flex-start;width: 50%;}#sk-container-id-21 div.sk-parallel-item:only-child::after {width: 0;}#sk-container-id-21 div.sk-dashed-wrapped {border: 1px dashed gray;margin: 0 0.4em 0.5em 0.4em;box-sizing: border-box;padding-bottom: 0.4em;background-color: white;}#sk-container-id-21 div.sk-label label {font-family: monospace;font-weight: bold;display: inline-block;line-height: 1.2em;}#sk-container-id-21 div.sk-label-container {text-align: center;}#sk-container-id-21 div.sk-container {/* jupyter's `normalize.less` sets `[hidden] { display: none; }` but bootstrap.min.css set `[hidden] { display: none !important; }` so we also need the `!important` here to be able to override the default hidden behavior on the sphinx rendered scikit-learn.org. See: https://github.com/scikit-learn/scikit-learn/issues/21755 */display: inline-block !important;position: relative;}#sk-container-id-21 div.sk-text-repr-fallback {display: none;}</style><div id=\"sk-container-id-21\" class=\"sk-top-container\"><div class=\"sk-text-repr-fallback\"><pre>ExtraTreesRegressor(n_estimators=300, random_state=43)</pre><b>In a Jupyter environment, please rerun this cell to show the HTML representation or trust the notebook. <br />On GitHub, the HTML representation is unable to render, please try loading this page with nbviewer.org.</b></div><div class=\"sk-container\" hidden><div class=\"sk-item\"><div class=\"sk-estimator sk-toggleable\"><input class=\"sk-toggleable__control sk-hidden--visually\" id=\"sk-estimator-id-36\" type=\"checkbox\" checked><label for=\"sk-estimator-id-36\" class=\"sk-toggleable__label sk-toggleable__label-arrow\">ExtraTreesRegressor</label><div class=\"sk-toggleable__content\"><pre>ExtraTreesRegressor(n_estimators=300, random_state=43)</pre></div></div></div></div></div>"
      ],
      "text/plain": [
       "ExtraTreesRegressor(n_estimators=300, random_state=43)"
      ]
     },
     "execution_count": 662,
     "metadata": {},
     "output_type": "execute_result"
    }
   ],
   "source": [
    "model = ExtraTreesRegressor(n_estimators=300, random_state=43)\n",
    "model.fit(X_train, y_train)"
   ]
  },
  {
   "cell_type": "code",
   "execution_count": 663,
   "metadata": {},
   "outputs": [],
   "source": [
    "# Hacer predicciones en el conjunto de prueba\n",
    "predictions = model.predict(X_test)"
   ]
  },
  {
   "cell_type": "code",
   "execution_count": 664,
   "metadata": {},
   "outputs": [
    {
     "name": "stdout",
     "output_type": "stream",
     "text": [
      "RMSE: 1654.101427266724\n",
      "Coeficiente de determinación R^2: 0.7256859156720645\n"
     ]
    }
   ],
   "source": [
    "# Calcular el error cuadrático medio\n",
    "mse = mean_squared_error(y_test, predictions)\n",
    "print(\"RMSE:\", np.sqrt(mse))\n",
    "r2 = r2_score(y_test, predictions)\n",
    "print(\"Coeficiente de determinación R^2:\", r2)"
   ]
  }
 ],
 "metadata": {
  "kernelspec": {
   "display_name": "Python 3",
   "language": "python",
   "name": "python3"
  },
  "language_info": {
   "codemirror_mode": {
    "name": "ipython",
    "version": 3
   },
   "file_extension": ".py",
   "mimetype": "text/x-python",
   "name": "python",
   "nbconvert_exporter": "python",
   "pygments_lexer": "ipython3",
   "version": "3.11.9"
  }
 },
 "nbformat": 4,
 "nbformat_minor": 2
}
